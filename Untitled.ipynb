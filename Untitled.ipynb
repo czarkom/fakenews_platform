{
 "cells": [
  {
   "cell_type": "code",
   "execution_count": 1,
   "id": "a4d97809",
   "metadata": {},
   "outputs": [],
   "source": [
    "import time\n",
    "import numpy as np\n",
    "import pandas as pd\n",
    "import matplotlib.pyplot as plt\n",
    "from tensorflow import keras\n",
    "from numpy import argmax\n",
    "import json\n",
    "import random"
   ]
  },
  {
   "cell_type": "code",
   "execution_count": 2,
   "id": "15069150",
   "metadata": {},
   "outputs": [
    {
     "data": {
      "text/plain": [
       "'https://www.bbc.co.uk/news/uk-england-devon-59867973'"
      ]
     },
     "execution_count": 2,
     "metadata": {},
     "output_type": "execute_result"
    }
   ],
   "source": [
    "f = open('mocked_result.json')\n",
    "input_data = json.load(f)\n",
    "input_data.pop('url')"
   ]
  },
  {
   "cell_type": "code",
   "execution_count": 3,
   "id": "5591aaf6",
   "metadata": {},
   "outputs": [
    {
     "data": {
      "text/html": [
       "<div>\n",
       "<style scoped>\n",
       "    .dataframe tbody tr th:only-of-type {\n",
       "        vertical-align: middle;\n",
       "    }\n",
       "\n",
       "    .dataframe tbody tr th {\n",
       "        vertical-align: top;\n",
       "    }\n",
       "\n",
       "    .dataframe thead th {\n",
       "        text-align: right;\n",
       "    }\n",
       "</style>\n",
       "<table border=\"1\" class=\"dataframe\">\n",
       "  <thead>\n",
       "    <tr style=\"text-align: right;\">\n",
       "      <th></th>\n",
       "      <th>smart_words_count</th>\n",
       "      <th>words_to_avoid_count</th>\n",
       "      <th>exclamation_count</th>\n",
       "      <th>text_longer_than_50_characters_count</th>\n",
       "      <th>text_longer_than_100_characters_count</th>\n",
       "      <th>text_longer_than_150_characters_count</th>\n",
       "      <th>text_longer_than_200_characters_count</th>\n",
       "      <th>http_references</th>\n",
       "      <th>https_references</th>\n",
       "      <th>div_count</th>\n",
       "      <th>...</th>\n",
       "      <th>ylt_cssDuplicatedProperties</th>\n",
       "      <th>ylt_totalWeight</th>\n",
       "      <th>ylt_domains</th>\n",
       "      <th>ylt_compression</th>\n",
       "      <th>ylt_totalRequests</th>\n",
       "      <th>ylt_heavyFonts</th>\n",
       "      <th>ylt_global_score</th>\n",
       "      <th>ylt_badJavascript_score</th>\n",
       "      <th>ylt_jQuery_score</th>\n",
       "      <th>ylt_serverConfig_score</th>\n",
       "    </tr>\n",
       "  </thead>\n",
       "  <tbody>\n",
       "    <tr>\n",
       "      <th>0</th>\n",
       "      <td>0.0</td>\n",
       "      <td>0.0</td>\n",
       "      <td>0.000002</td>\n",
       "      <td>0.002272</td>\n",
       "      <td>0.000853</td>\n",
       "      <td>0.000637</td>\n",
       "      <td>0.000637</td>\n",
       "      <td>0.00001</td>\n",
       "      <td>0.000026</td>\n",
       "      <td>0.000085</td>\n",
       "      <td>...</td>\n",
       "      <td>0.000115</td>\n",
       "      <td>1.0</td>\n",
       "      <td>0.00001</td>\n",
       "      <td>0.071606</td>\n",
       "      <td>0.000051</td>\n",
       "      <td>0.0</td>\n",
       "      <td>0.000192</td>\n",
       "      <td>0.000202</td>\n",
       "      <td>0.000202</td>\n",
       "      <td>0.0002</td>\n",
       "    </tr>\n",
       "  </tbody>\n",
       "</table>\n",
       "<p>1 rows × 40 columns</p>\n",
       "</div>"
      ],
      "text/plain": [
       "   smart_words_count  words_to_avoid_count  exclamation_count  \\\n",
       "0                0.0                   0.0           0.000002   \n",
       "\n",
       "   text_longer_than_50_characters_count  \\\n",
       "0                              0.002272   \n",
       "\n",
       "   text_longer_than_100_characters_count  \\\n",
       "0                               0.000853   \n",
       "\n",
       "   text_longer_than_150_characters_count  \\\n",
       "0                               0.000637   \n",
       "\n",
       "   text_longer_than_200_characters_count  http_references  https_references  \\\n",
       "0                               0.000637          0.00001          0.000026   \n",
       "\n",
       "   div_count  ...  ylt_cssDuplicatedProperties  ylt_totalWeight  ylt_domains  \\\n",
       "0   0.000085  ...                     0.000115              1.0      0.00001   \n",
       "\n",
       "   ylt_compression  ylt_totalRequests  ylt_heavyFonts  ylt_global_score  \\\n",
       "0         0.071606           0.000051             0.0          0.000192   \n",
       "\n",
       "   ylt_badJavascript_score  ylt_jQuery_score  ylt_serverConfig_score  \n",
       "0                 0.000202          0.000202                  0.0002  \n",
       "\n",
       "[1 rows x 40 columns]"
      ]
     },
     "execution_count": 3,
     "metadata": {},
     "output_type": "execute_result"
    }
   ],
   "source": [
    "test = pd.DataFrame([input_data])\n",
    "test.max()\n",
    "test_normalized = (test) / float(test.max(axis=1))\n",
    "test_normalized"
   ]
  },
  {
   "cell_type": "code",
   "execution_count": 4,
   "id": "e46fd029",
   "metadata": {},
   "outputs": [],
   "source": [
    "def predict_value(input_data, path_to_model):\n",
    "    df = pd.DataFrame([input_data])\n",
    "    normalized_df = (df) / float(df.max(axis=1))\n",
    "    input = normalized_df.values\n",
    "    model = keras.models.load_model(path_to_model)\n",
    "    # jeżeli jest to modelem regresyjnym to tak:\n",
    "    predicted_value = model.predict(input.reshape(-1, 1, 40))*5.\n",
    "    # jeżeli jest model klasyfikujący to tak:\n",
    "    #predicted_value = argmax(model.predict(input), axis=-1).astype('int')[0]\n",
    "    \n",
    "    \n",
    "    return predicted_value"
   ]
  },
  {
   "cell_type": "code",
   "execution_count": 10,
   "id": "6da80f4a",
   "metadata": {
    "scrolled": true
   },
   "outputs": [
    {
     "name": "stdout",
     "output_type": "stream",
     "text": [
      "2.7.0\n"
     ]
    },
    {
     "data": {
      "text/plain": [
       "array([[2.0535126]], dtype=float32)"
      ]
     },
     "execution_count": 10,
     "metadata": {},
     "output_type": "execute_result"
    }
   ],
   "source": [
    "test = predict_value(input_data, 'models/acc70_binary')\n",
    "test"
   ]
  },
  {
   "cell_type": "code",
   "execution_count": 6,
   "id": "26055b2c",
   "metadata": {},
   "outputs": [],
   "source": [
    "from keras import models"
   ]
  },
  {
   "cell_type": "code",
   "execution_count": 8,
   "id": "27b3eb23",
   "metadata": {
    "scrolled": true
   },
   "outputs": [
    {
     "name": "stdout",
     "output_type": "stream",
     "text": [
      "2.7.0\n"
     ]
    },
    {
     "data": {
      "text/plain": [
       "array([[1.0508065]], dtype=float32)"
      ]
     },
     "execution_count": 8,
     "metadata": {},
     "output_type": "execute_result"
    }
   ],
   "source": [
    "test = predict_value(input_data, 'models/regression_1')\n",
    "test\n"
   ]
  },
  {
   "cell_type": "code",
   "execution_count": 1,
   "id": "4bc6e115",
   "metadata": {},
   "outputs": [
    {
     "name": "stdout",
     "output_type": "stream",
     "text": [
      "3.9.7\n"
     ]
    }
   ],
   "source": [
    "from platform import python_version\n",
    "\n",
    "print(python_version())"
   ]
  }
 ],
 "metadata": {
  "kernelspec": {
   "display_name": "Python 3 (ipykernel)",
   "language": "python",
   "name": "python3"
  },
  "language_info": {
   "codemirror_mode": {
    "name": "ipython",
    "version": 3
   },
   "file_extension": ".py",
   "mimetype": "text/x-python",
   "name": "python",
   "nbconvert_exporter": "python",
   "pygments_lexer": "ipython3",
   "version": "3.9.9"
  }
 },
 "nbformat": 4,
 "nbformat_minor": 5
}
